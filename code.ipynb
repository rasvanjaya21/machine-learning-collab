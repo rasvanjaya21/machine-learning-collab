{
  "cells": [
    {
      "cell_type": "markdown",
      "metadata": {
        "id": "c7M-4cOib5xm"
      },
      "source": [
        "<p align=\"center\">\n",
        "<a href=\"#\"><img src=\"https://rasvanjaya21.web.app/api/praktikum/machine-learning/base-logo.svg\" width=\"720\"></a>\n",
        "</p>\n",
        "<p align=\"center\" style=\"\">\n",
        "<a href=\"https://en.wikipedia.org/wiki/Artificial_intelligence\"><img src=\"https://rasvanjaya21.web.app/api/praktikum/machine-learning/modul2/modul.svg\" alt=\"Artificial Inteligence\" height=\"25\"></a>\n",
        "<a href=\"https://en.wikipedia.org/wiki/Artificial_intelligence\"><img src=\"https://rasvanjaya21.web.app/api/praktikum/machine-learning/modul2/matkul.svg\" alt=\"Artificial Inteligence\" height=\"25\"></a>\n",
        "<a href=\"https://en.wikipedia.org/wiki/Artificial_intelligence\"><img src=\"https://rasvanjaya21.web.app/api/praktikum/machine-learning/modul2/dataset.svg\" alt=\"Artificial Inteligence\" height=\"25\"></a>\n",
        "<a href=\"https://en.wikipedia.org/wiki/Artificial_intelligence\"><img src=\"https://rasvanjaya21.web.app/api/praktikum/machine-learning/modul2/author.svg\" alt=\"Artificial Inteligence\" height=\"25\"></a>\n",
        "<a href=\"https://en.wikipedia.org/wiki/Artificial_intelligence\"><img src=\"https://rasvanjaya21.web.app/api/praktikum/machine-learning/modul2/nim.svg\" alt=\"Artificial Inteligence\" height=\"25\"></a>\n",
        "</p>"
      ]
    },
    {
      "cell_type": "markdown",
      "metadata": {
        "id": "buE3o1Q7b5xs"
      },
      "source": [
        "#### # Praktikum\n",
        "######  `Membuat model Convolution Neural Network | Klasifikasi penyakit kanker kulit`"
      ]
    },
    {
      "cell_type": "markdown",
      "metadata": {
        "id": "0VY7Sg3gcYzM"
      },
      "source": [
        "#### # Assignment\n",
        "######  `{ null }`"
      ]
    },
    {
      "cell_type": "markdown",
      "metadata": {
        "id": "WEzzXvUnb5xu"
      },
      "source": [
        "##### # 00 - Structure Folders\n",
        "######  `Standard struktur folder dan file pada modul ini, visualisasi tree structure`"
      ]
    },
    {
      "cell_type": "markdown",
      "metadata": {
        "id": "_paXCB9Vb5xw"
      },
      "source": [
        "##### # 01 - Load Data and Prepocessing\n",
        "######  `Persiapan yang dibutuhkan untuk modelling : assign kaggle api, processing dataset, splitting folders, checking dataset dan normalisasi`"
      ]
    },
    {
      "cell_type": "markdown",
      "metadata": {
        "id": "1bEc1eFtb5yC"
      },
      "source": [
        "##### # 02 - Modelling\n",
        "######  `Membuat arsitektur model lanjutan dari proses sebelumnya yang meliputi fetaure extraction layer, hidden layer, input layer, fully connected layer dan output. Terdapat dua model, max pooling dan average pooling`"
      ]
    },
    {
      "cell_type": "markdown",
      "metadata": {
        "id": "t9aUXKr_b5yD"
      },
      "source": [
        "##### # 03 - Model Evaluation\n",
        "######  `Evaluasi dari model yang telah didapatkan, visualiasi hasil training dan validation, matriks evaluasi`"
      ]
    },
    {
      "cell_type": "markdown",
      "metadata": {
        "id": "xX0DZAfLUhHk"
      },
      "source": [
        "######  `# Turu Deck`"
      ]
    }
  ],
  "metadata": {
    "accelerator": "GPU",
    "colab": {
      "collapsed_sections": [],
      "provenance": []
    },
    "kernelspec": {
      "display_name": "Python 3 (ipykernel)",
      "language": "python",
      "name": "python3"
    }
  },
  "nbformat": 4,
  "nbformat_minor": 0
}
